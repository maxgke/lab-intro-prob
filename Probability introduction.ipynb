{
 "cells": [
  {
   "cell_type": "markdown",
   "metadata": {},
   "source": [
    "##  Intro to probability\n",
    "\n",
    "### Key concepts\n",
    "\n",
    "- **Sample space** - Sample space is the set of all possible outcomes for that experiment. Coins; head and tails.\n",
    "- **Experiment** is any situation that involves observation or measurement. Coins; the game is the experiment.\n",
    "- **Events** - Subset of the sample. Coins; everytime we toss the coin.\n",
    "\n",
    "### Calculating probabilities\n",
    "\n",
    "- Possibility that a dice will have an even outcome \n",
    "\n",
    "![](https://camo.githubusercontent.com/aafde389991c328fb2a37fa832fa7ce96b490f28/68747470733a2f2f73332d65752d776573742d312e616d617a6f6e6177732e636f6d2f69682d6d6174657269616c732f75706c6f6164732f646174612d7374617469632f696d616765732f70726f622d6f662d6576656e2e706e67)\n",
    "\n",
    "- Possibility that a dice will have an outcome equal or lower to 2.\n",
    "\n",
    "![](https://camo.githubusercontent.com/84b4b542bad4ea8c5edf83e6fc12c0dab0c1b813/68747470733a2f2f73332d65752d776573742d312e616d617a6f6e6177732e636f6d2f69682d6d6174657269616c732f75706c6f6164732f646174612d7374617469632f696d616765732f70726f622d6c6573732d322e706e67)"
   ]
  },
  {
   "cell_type": "code",
   "execution_count": 5,
   "metadata": {},
   "outputs": [
    {
     "name": "stdout",
     "output_type": "stream",
     "text": [
      "0.5\n"
     ]
    }
   ],
   "source": [
    "def even(x):\n",
    "    return(x % 2 == 0)\n",
    "sample_space = [1, 2, 3, 4, 5, 6]\n",
    "die_sides = len(sample_space)\n",
    "even_roll = len([x for x in sample_space if even(x)])\n",
    "even_probability = even_roll / die_sides\n",
    "print(even_probability)"
   ]
  },
  {
   "cell_type": "markdown",
   "metadata": {},
   "source": [
    "What would happen if the dice got 7 sides"
   ]
  },
  {
   "cell_type": "code",
   "execution_count": 6,
   "metadata": {},
   "outputs": [
    {
     "name": "stdout",
     "output_type": "stream",
     "text": [
      "0.42857142857142855\n"
     ]
    }
   ],
   "source": [
    "def even(x):\n",
    "    return(x % 2 == 0)\n",
    "sample_space = [1, 2, 3, 4, 5, 6,7]\n",
    "die_sides = len(sample_space)\n",
    "even_roll = len([x for x in sample_space if even(x)])\n",
    "even_probability = even_roll / die_sides\n",
    "print(even_probability)"
   ]
  },
  {
   "cell_type": "markdown",
   "metadata": {},
   "source": [
    "### Union and Intersection\n",
    "\n",
    "- Union: makes sense in sets. The union of two sets geets to contain all unique values of both sets \n",
    "\n",
    "A = {1, 3, 5}, B = {5, 6}, A U B = {1, 3, 5, 6}\n",
    "\n"
   ]
  },
  {
   "cell_type": "code",
   "execution_count": 186,
   "metadata": {},
   "outputs": [
    {
     "data": {
      "text/plain": [
       "{1, 3, 5, 6}"
      ]
     },
     "execution_count": 186,
     "metadata": {},
     "output_type": "execute_result"
    }
   ],
   "source": [
    "a = set([1, 3, 5])\n",
    "b = set([5, 6])\n",
    "a.union(b)"
   ]
  },
  {
   "cell_type": "markdown",
   "metadata": {},
   "source": [
    "- Intersection: contains only values that appear in both sets."
   ]
  },
  {
   "cell_type": "code",
   "execution_count": 187,
   "metadata": {},
   "outputs": [
    {
     "data": {
      "text/plain": [
       "{5}"
      ]
     },
     "execution_count": 187,
     "metadata": {},
     "output_type": "execute_result"
    }
   ],
   "source": [
    "a.intersection(b)"
   ]
  },
  {
   "cell_type": "markdown",
   "metadata": {},
   "source": [
    "### The three axioms of probability\n",
    "Now that we have defined key concepts, we can look at the three rules that define the entire field of probability:\n",
    "\n",
    "- Axiom 1\n",
    "The probability of an event is a non negative real number.\n",
    "\n",
    "- Axiom 2\n",
    "The probability of the entire sample space is 1 or P(Ω) = 1.\n",
    "\n",
    "- Axiom 3\n",
    "The union of mutually exclusive events is equal to the sum of these events. In mathematical notation:\n",
    "\n",
    "![](https://camo.githubusercontent.com/4356720825bc269ad8049ee3e0fd6f889b5d01c4/68747470733a2f2f73332d65752d776573742d312e616d617a6f6e6177732e636f6d2f69682d6d6174657269616c732f75706c6f6164732f646174612d7374617469632f696d616765732f6178696f6d332e706e67)\n",
    "\n",
    "### Some probability definitions\n",
    "\n",
    "- Mutual exclusivity; Outcomes in the events are exclusive. Events have no intersection. Example; tossing a coin. \n",
    "\n",
    "- Conditional Probability; The conditional probability P(A|B) is the probability of event A given that event B as occurred. We can think of this as limiting the sample space to the event B and then recomputing the probability of A in this new sample space.\n",
    "\n",
    "![](https://camo.githubusercontent.com/93285fcc2fad9f5735baaedd5a2113f0ee6f5829/68747470733a2f2f73332d65752d776573742d312e616d617a6f6e6177732e636f6d2f69682d6d6174657269616c732f75706c6f6164732f646174612d7374617469632f696d616765732f636f6e646974696f6e616c2d70726f622e706e67)\n",
    "\n",
    "Example; the probability that a die roll is less than 3 given that it is odd is\n",
    "\n",
    "![](https://camo.githubusercontent.com/0613a197345882dc016a854212a256d019d308c8/68747470733a2f2f73332d65752d776573742d312e616d617a6f6e6177732e636f6d2f69682d6d6174657269616c732f75706c6f6164732f646174612d7374617469632f696d616765732f636f6e646974696f6e616c2d6578616d706c652e706e67)\n",
    "\n",
    "- Independence and Dependence of Events; We can think of this as limiting the sample space to the event B and then recomputing the probability of A in this new sample space.\n",
    "\n",
    "P(A|B) = P(A)\n",
    "\n",
    "P(B|A) = P(B)\n"
   ]
  },
  {
   "cell_type": "markdown",
   "metadata": {},
   "source": [
    "## Addition in Probability"
   ]
  },
  {
   "cell_type": "markdown",
   "metadata": {
    "Collapsed": "false",
    "slideshow": {
     "slide_type": "slide"
    }
   },
   "source": [
    "### Scenario 1: What is the probability that he will pick either a King of Spades OR an Ace of Hearts?"
   ]
  },
  {
   "cell_type": "markdown",
   "metadata": {
    "Collapsed": "false",
    "slideshow": {
     "slide_type": "fragment"
    }
   },
   "source": [
    "Consider the following situation. Suppose John may pick a card. "
   ]
  },
  {
   "cell_type": "markdown",
   "metadata": {
    "Collapsed": "false",
    "slideshow": {
     "slide_type": "fragment"
    }
   },
   "source": [
    "First of all, we must ask ourselves whether these two possible events are dependent or independent."
   ]
  },
  {
   "cell_type": "markdown",
   "metadata": {
    "Collapsed": "false",
    "slideshow": {
     "slide_type": "slide"
    }
   },
   "source": [
    "Because these two events are **independent**, we will have to use the following formula to compute the probability of drawing one or the other:"
   ]
  },
  {
   "cell_type": "markdown",
   "metadata": {
    "Collapsed": "false",
    "slideshow": {
     "slide_type": "fragment"
    }
   },
   "source": [
    "- $P$(King of Spades $\\cup$ Ace of Hearts) = $P$(King of Spades) + $P$(Ace of Hearts)."
   ]
  },
  {
   "cell_type": "markdown",
   "metadata": {
    "Collapsed": "false"
   },
   "source": [
    "- $P$(A $\\cup$ B) = $P$(A) + $P$(B)."
   ]
  },
  {
   "cell_type": "markdown",
   "metadata": {
    "Collapsed": "false",
    "slideshow": {
     "slide_type": "fragment"
    }
   },
   "source": [
    "Here we would get:\n",
    "\n",
    "- $\\frac{1}{52}$ + $\\frac{1}{52}$ = $\\frac{2}{52} = \\frac{1}{26} \\approx 3.85\\%$ "
   ]
  },
  {
   "cell_type": "markdown",
   "metadata": {
    "Collapsed": "false",
    "slideshow": {
     "slide_type": "slide"
    }
   },
   "source": [
    "### Scenario 2: What is the probability that he will pick either an Ace **OR** a Clover?"
   ]
  },
  {
   "cell_type": "markdown",
   "metadata": {
    "Collapsed": "false",
    "slideshow": {
     "slide_type": "fragment"
    }
   },
   "source": [
    "![](data:image/png;base64,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) \n",
    "\n",
    "\n",
    "Consider the following. Suppose that John must pick a card from the deck of cards."
   ]
  },
  {
   "cell_type": "markdown",
   "metadata": {
    "Collapsed": "false",
    "slideshow": {
     "slide_type": "fragment"
    }
   },
   "source": [
    "Again, first we need to ask ourselves: are these two events independent or dependent? "
   ]
  },
  {
   "cell_type": "markdown",
   "metadata": {
    "Collapsed": "false",
    "slideshow": {
     "slide_type": "slide"
    }
   },
   "source": [
    "Because these two events are **dependent**, we will have to use the following formula to compute the probability of drawing one or the other:"
   ]
  },
  {
   "cell_type": "markdown",
   "metadata": {
    "Collapsed": "false",
    "slideshow": {
     "slide_type": "fragment"
    }
   },
   "source": [
    "- $P$(Ace $\\cup$ Clover) = $P$(Ace) + $P$(Clover) - $P($Ace $\\cap$ Clover)."
   ]
  },
  {
   "cell_type": "markdown",
   "metadata": {
    "Collapsed": "false",
    "slideshow": {
     "slide_type": "fragment"
    }
   },
   "source": [
    "$\\frac{4}{52}$ + $\\frac{13}{52}$ - ($\\frac{1}{52}$) = $\\frac{4}{13} \\approx 30.77 \\%$."
   ]
  },
  {
   "cell_type": "markdown",
   "metadata": {
    "Collapsed": "false",
    "slideshow": {
     "slide_type": "slide"
    }
   },
   "source": [
    "## Multiplication in Probability"
   ]
  },
  {
   "cell_type": "markdown",
   "metadata": {
    "Collapsed": "false",
    "slideshow": {
     "slide_type": "slide"
    }
   },
   "source": [
    "### Scenario 1: What is the probability that he will pick a Queen of Hearts **AND** a King of Hearts?\n"
   ]
  },
  {
   "cell_type": "markdown",
   "metadata": {
    "Collapsed": "false",
    "slideshow": {
     "slide_type": "fragment"
    }
   },
   "source": [
    "**Assume that after each pick, John will put his card back on the deck.**"
   ]
  },
  {
   "cell_type": "markdown",
   "metadata": {
    "Collapsed": "false",
    "slideshow": {
     "slide_type": "fragment"
    }
   },
   "source": [
    "Are these two events, the first pick and the second pick, dependent or independent events?"
   ]
  },
  {
   "cell_type": "markdown",
   "metadata": {
    "Collapsed": "false",
    "slideshow": {
     "slide_type": "slide"
    }
   },
   "source": [
    "Since John puts his card back on the deck, the probability of picking any card stays $\\frac{1}{52}$ and these events are therefore **independent.**"
   ]
  },
  {
   "cell_type": "markdown",
   "metadata": {
    "Collapsed": "false",
    "slideshow": {
     "slide_type": "slide"
    }
   },
   "source": [
    "Since these events are independent, we use the following formula: "
   ]
  },
  {
   "cell_type": "markdown",
   "metadata": {
    "Collapsed": "false",
    "slideshow": {
     "slide_type": "fragment"
    }
   },
   "source": [
    "- $P($Queen of Hearts $\\cap$ King of Hearts) = $P($Queen of Hearts) * $P($King of Hearts)."
   ]
  },
  {
   "cell_type": "markdown",
   "metadata": {
    "Collapsed": "false",
    "slideshow": {
     "slide_type": "fragment"
    }
   },
   "source": [
    "Filling in the values, we get:"
   ]
  },
  {
   "cell_type": "markdown",
   "metadata": {
    "Collapsed": "false",
    "slideshow": {
     "slide_type": "fragment"
    }
   },
   "source": [
    "- $P($Queen of Hearts $\\cap$ King of Hearts) = $\\frac{1}{52}$*$\\frac{1}{52} = \\frac{1}{2704} \\approx 0.04\\% $"
   ]
  },
  {
   "cell_type": "markdown",
   "metadata": {
    "Collapsed": "false",
    "slideshow": {
     "slide_type": "slide"
    }
   },
   "source": [
    "### Scenario 2; John does not put back his card\n",
    "\n"
   ]
  },
  {
   "cell_type": "markdown",
   "metadata": {
    "Collapsed": "false",
    "slideshow": {
     "slide_type": "fragment"
    }
   },
   "source": [
    "Now suppose again that John may pick two cards. What is the probability that he will pick a Queen of Hearts **AND** a King of Hearts?\n",
    "\n",
    "Assume that after the first pick, John does not put back his card. Are these two events dependent or independent? "
   ]
  },
  {
   "cell_type": "markdown",
   "metadata": {
    "Collapsed": "false",
    "slideshow": {
     "slide_type": "slide"
    }
   },
   "source": [
    "Since John does put his card back on the deck, the probability of picking any card differs ($\\frac{1}{52}$ on the first pick, $\\frac{1}{51}$ on the second pick, etc.) and these events are therefore **dependent.**"
   ]
  },
  {
   "cell_type": "markdown",
   "metadata": {
    "Collapsed": "false",
    "slideshow": {
     "slide_type": "slide"
    }
   },
   "source": [
    "Since the events in this scenario are *dependent* we use the following formula: "
   ]
  },
  {
   "cell_type": "markdown",
   "metadata": {
    "Collapsed": "false",
    "slideshow": {
     "slide_type": "fragment"
    }
   },
   "source": [
    "- $P($Queen of Hearts $\\cap$ King of Hearts) = $P($Queen of Hearts) * $P($King of Hearts $\\mid$ Queen of Hearts)."
   ]
  },
  {
   "cell_type": "markdown",
   "metadata": {
    "Collapsed": "false",
    "slideshow": {
     "slide_type": "fragment"
    }
   },
   "source": [
    "Filling in the values, we get:"
   ]
  },
  {
   "cell_type": "markdown",
   "metadata": {
    "Collapsed": "false",
    "slideshow": {
     "slide_type": "fragment"
    }
   },
   "source": [
    "- $P($Queen of Hearts $\\cap$ King of Hearts) = $\\frac{1}{52}$*$\\frac{1}{51} = \\frac{1}{2652} \\approx 0.04\\%$ "
   ]
  },
  {
   "cell_type": "markdown",
   "metadata": {
    "Collapsed": "false",
    "slideshow": {
     "slide_type": "slide"
    }
   },
   "source": [
    "### Why would you say this is more probable now compared to what it was before?\n",
    "## Conditional Probability"
   ]
  },
  {
   "cell_type": "markdown",
   "metadata": {
    "Collapsed": "false",
    "slideshow": {
     "slide_type": "slide"
    }
   },
   "source": [
    "### Scenario 1: What is the probability that Jennifer picks the Ace of Hearts given that we know that John picked the King of Spades?\n"
   ]
  },
  {
   "cell_type": "markdown",
   "metadata": {
    "Collapsed": "false",
    "slideshow": {
     "slide_type": "fragment"
    }
   },
   "source": [
    "Assume that John does not put back his card."
   ]
  },
  {
   "cell_type": "markdown",
   "metadata": {
    "Collapsed": "false",
    "slideshow": {
     "slide_type": "fragment"
    }
   },
   "source": [
    "To determine this, we can use to following formula:\n",
    "\n",
    " $P$(A $\\mid$ B) = $\\frac{P(A \\cap B)}{P(B)}$."
   ]
  },
  {
   "cell_type": "markdown",
   "metadata": {
    "Collapsed": "false",
    "slideshow": {
     "slide_type": "slide"
    }
   },
   "source": [
    "Rewriting this in terms of our example, we get:"
   ]
  },
  {
   "cell_type": "markdown",
   "metadata": {
    "Collapsed": "false",
    "slideshow": {
     "slide_type": "fragment"
    }
   },
   "source": [
    "\n",
    "- $P$(Ace of Hearts $\\mid$ King of Spades) = $P$(Ace of Hearts $\\cap$ King of Spades) / $P($King of Spades)."
   ]
  },
  {
   "cell_type": "markdown",
   "metadata": {
    "Collapsed": "false",
    "slideshow": {
     "slide_type": "fragment"
    }
   },
   "source": [
    "since $P$(Ace of Hearts $\\cap$ King of Spades) = $P($Ace of Hearts) * $P($King of Spades $\\mid$ Ace of Hearts) we then have that $P$(Ace of Hearts $\\cap$ King of Spades) = $\\frac{1}{52} * \\frac{1}{51}$. Therefore,\n",
    "\n",
    "- $P$(Ace of Hearts $\\cap$ King of Spades) = $\\frac{1}{2652}$."
   ]
  },
  {
   "cell_type": "markdown",
   "metadata": {
    "Collapsed": "false",
    "slideshow": {
     "slide_type": "slide"
    }
   },
   "source": [
    "We can then fill in the other values and get:\n",
    "\n",
    "- $P$(Ace of Hearts $\\mid$ King of Spades) = $\\frac{1}{2652}$ / $\\frac{1}{52}$ =  $\\frac{1}{51} \\approx 1.961\\%$ "
   ]
  },
  {
   "cell_type": "markdown",
   "metadata": {
    "Collapsed": "false",
    "slideshow": {
     "slide_type": "slide"
    }
   },
   "source": [
    "Because our knowledge that the event \"King of Spades\" has occurred has changed the probability that \"Ace of Hearts\" has occurred, we can conclude that these event must be **dependent** events, since $\\frac{1}{52} \\neq \\frac{1}{51}$."
   ]
  },
  {
   "cell_type": "markdown",
   "metadata": {
    "Collapsed": "false",
    "slideshow": {
     "slide_type": "slide"
    }
   },
   "source": [
    "In other words, **the occurrence of one event changes the likelihood of the other event.**"
   ]
  },
  {
   "cell_type": "markdown",
   "metadata": {
    "Collapsed": "false",
    "slideshow": {
     "slide_type": "slide"
    }
   },
   "source": [
    "### Scenario 2"
   ]
  },
  {
   "cell_type": "markdown",
   "metadata": {
    "Collapsed": "false",
    "slideshow": {
     "slide_type": "fragment"
    }
   },
   "source": [
    "Now suppose again that John picks a King of Spades *and that he puts it back on the card deck*. What is the probability that Jennifer picks the Ace of Hearts *given* that we know that John picked the King of Spades?"
   ]
  },
  {
   "cell_type": "markdown",
   "metadata": {
    "Collapsed": "false",
    "slideshow": {
     "slide_type": "slide"
    }
   },
   "source": [
    "Recall our formula:\n",
    "\n",
    "- $P$(Ace of Hearts $\\mid$ King of Spades) = $P$(Ace of Hearts $\\cap$ King of Spades) / $P($King of Spades)."
   ]
  },
  {
   "cell_type": "markdown",
   "metadata": {
    "Collapsed": "false",
    "slideshow": {
     "slide_type": "slide"
    }
   },
   "source": [
    "Let us fill in the values. "
   ]
  },
  {
   "cell_type": "markdown",
   "metadata": {
    "Collapsed": "false",
    "slideshow": {
     "slide_type": "fragment"
    }
   },
   "source": [
    "Since now we have that $P$(Ace of Hearts $\\cap$ King of Spades) = $P($Ace of Hearts) * $P($King of Spades), we can simple substitute the corresponding values in the numerator. "
   ]
  },
  {
   "cell_type": "markdown",
   "metadata": {
    "Collapsed": "false",
    "slideshow": {
     "slide_type": "fragment"
    }
   },
   "source": [
    "$P$(Ace of Hearts $\\mid$ King of Spades) = $(\\frac{1}{52}*\\frac{1}{52}) / \\frac{1}{52}$ "
   ]
  },
  {
   "cell_type": "markdown",
   "metadata": {
    "Collapsed": "false",
    "slideshow": {
     "slide_type": "slide"
    }
   },
   "source": [
    "This will give us the following:\n",
    "\n",
    "- $P$(Ace of Hearts $\\mid$ King of Spades) = $(\\frac{1}{52}*\\frac{1}{52}) / \\frac{1}{52}$ = $\\frac{1}{52}\\approx 1.923\\%$"
   ]
  },
  {
   "cell_type": "markdown",
   "metadata": {
    "Collapsed": "false",
    "slideshow": {
     "slide_type": "slide"
    }
   },
   "source": [
    "We now established that when John puts back his card these two events *are independent.* "
   ]
  },
  {
   "cell_type": "markdown",
   "metadata": {
    "Collapsed": "false",
    "slideshow": {
     "slide_type": "fragment"
    }
   },
   "source": [
    "Formally, we write that $P$(Ace of Hearts $\\mid$ King of Spades) = $P$(Ace of Hearts), since $\\frac{1}{52} = \\frac{1}{52}$."
   ]
  },
  {
   "cell_type": "markdown",
   "metadata": {
    "Collapsed": "false",
    "slideshow": {
     "slide_type": "slide"
    }
   },
   "source": [
    "**Important remark:** In the previous two scenarios we were given the information about whether the underlying game contained dependent or independent events. "
   ]
  },
  {
   "cell_type": "markdown",
   "metadata": {
    "Collapsed": "false",
    "slideshow": {
     "slide_type": "fragment"
    }
   },
   "source": [
    "In real life, however, this is not always as straightforward and often we need to resort to highly complex optimization and fitting techniques to approximate certain values in our formula.  "
   ]
  },
  {
   "cell_type": "markdown",
   "metadata": {
    "Collapsed": "false",
    "slideshow": {
     "slide_type": "slide"
    }
   },
   "source": [
    "## Summary"
   ]
  },
  {
   "cell_type": "markdown",
   "metadata": {
    "Collapsed": "false",
    "slideshow": {
     "slide_type": "slide"
    }
   },
   "source": [
    "In this lecture, we learnt about:"
   ]
  },
  {
   "cell_type": "markdown",
   "metadata": {
    "Collapsed": "false",
    "slideshow": {
     "slide_type": "fragment"
    }
   },
   "source": [
    "- How to compute the probability of one event AND another event (addition);"
   ]
  },
  {
   "cell_type": "markdown",
   "metadata": {
    "Collapsed": "false",
    "slideshow": {
     "slide_type": "fragment"
    }
   },
   "source": [
    "- How to compute the probability of one event OR another event (multiplication);"
   ]
  },
  {
   "cell_type": "markdown",
   "metadata": {
    "Collapsed": "false",
    "slideshow": {
     "slide_type": "fragment"
    }
   },
   "source": [
    "- How to compute the probability of one event GIVEN another event (conditioning)."
   ]
  },
  {
   "cell_type": "markdown",
   "metadata": {
    "Collapsed": "false",
    "slideshow": {
     "slide_type": "slide"
    }
   },
   "source": [
    "## Appendix "
   ]
  },
  {
   "cell_type": "markdown",
   "metadata": {
    "Collapsed": "false",
    "slideshow": {
     "slide_type": "slide"
    }
   },
   "source": [
    "### Complement "
   ]
  },
  {
   "cell_type": "markdown",
   "metadata": {
    "Collapsed": "false",
    "slideshow": {
     "slide_type": "fragment"
    }
   },
   "source": [
    "P(\"Ace of Hearts\") = 1/52"
   ]
  },
  {
   "cell_type": "markdown",
   "metadata": {
    "Collapsed": "false",
    "slideshow": {
     "slide_type": "fragment"
    }
   },
   "source": [
    "P(\"Ace of Hearts$^{c}\")$ = 1 - P(\"Ace of Hearts\") = 51/52"
   ]
  },
  {
   "cell_type": "markdown",
   "metadata": {
    "Collapsed": "false",
    "slideshow": {
     "slide_type": "fragment"
    }
   },
   "source": [
    "P(\"Ace$^{c}\")$ = 1 - P(\"Ace\") = 1 - (4/52) = 48/52"
   ]
  },
  {
   "cell_type": "markdown",
   "metadata": {
    "Collapsed": "false",
    "slideshow": {
     "slide_type": "slide"
    }
   },
   "source": [
    "### Additional Links"
   ]
  },
  {
   "cell_type": "markdown",
   "metadata": {
    "Collapsed": "false",
    "slideshow": {
     "slide_type": "fragment"
    }
   },
   "source": [
    "https://www.calculatorsoup.com/calculators/math/fractionssimplify.php\n",
    "\n",
    "https://www.calculatorsoup.com/calculators/math/fraction-to-percent-calculator.php"
   ]
  }
 ],
 "metadata": {
  "kernelspec": {
   "display_name": "Python 3",
   "language": "python",
   "name": "python3"
  },
  "language_info": {
   "codemirror_mode": {
    "name": "ipython",
    "version": 3
   },
   "file_extension": ".py",
   "mimetype": "text/x-python",
   "name": "python",
   "nbconvert_exporter": "python",
   "pygments_lexer": "ipython3",
   "version": "3.7.4"
  }
 },
 "nbformat": 4,
 "nbformat_minor": 4
}
